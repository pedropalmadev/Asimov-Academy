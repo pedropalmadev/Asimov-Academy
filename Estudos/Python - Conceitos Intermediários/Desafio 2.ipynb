{
 "cells": [
  {
   "cell_type": "code",
   "execution_count": 2,
   "id": "762e5ba0-71bb-4427-9adb-8c00c403f92a",
   "metadata": {},
   "outputs": [],
   "source": [
    "import random\n",
    "\n",
    "def busca_dados():\n",
    "    if random.random() > 0.5:\n",
    "        return None\n",
    "    return 'xxxx'\n",
    "\n",
    "\n",
    "def processa_dados(dados):\n",
    "    return f'Dados \"{dados}\" foram processados'"
   ]
  },
  {
   "cell_type": "code",
   "execution_count": 8,
   "id": "462fb747-9538-440b-a1d7-162054417577",
   "metadata": {},
   "outputs": [
    {
     "name": "stdout",
     "output_type": "stream",
     "text": [
      "Resultado: N/A\n"
     ]
    }
   ],
   "source": [
    "\n",
    "\n",
    "dados_processados = (\n",
    "    processa_dados(dados_banco) \n",
    "    if (dados_banco := busca_dados()) is not None\n",
    "    else 'N/A'\n",
    ")\n",
    "\n",
    "print(f'Resultado: {dados_processados}')"
   ]
  },
  {
   "cell_type": "code",
   "execution_count": 9,
   "id": "cf27a68c-6ee2-4c1f-b66a-f9f9946697ed",
   "metadata": {},
   "outputs": [
    {
     "name": "stdout",
     "output_type": "stream",
     "text": [
      "Resultado: N/A\n"
     ]
    }
   ],
   "source": [
    "\n",
    "\n",
    "dados_processados = (\n",
    "    processa_dados(dados_banco) \n",
    "    if (dados_banco := busca_dados()) is not None\n",
    "    else 'N/A'\n",
    ")\n",
    "\n",
    "print(f'Resultado: {dados_processados}')"
   ]
  },
  {
   "cell_type": "code",
   "execution_count": 10,
   "id": "f1d873b1-e07b-4537-b49f-7502c636ab75",
   "metadata": {},
   "outputs": [
    {
     "name": "stdout",
     "output_type": "stream",
     "text": [
      "Resultado: N/A\n"
     ]
    }
   ],
   "source": [
    "\n",
    "\n",
    "dados_processados = (\n",
    "    processa_dados(dados_banco) \n",
    "    if (dados_banco := busca_dados()) is not None\n",
    "    else 'N/A'\n",
    ")\n",
    "\n",
    "print(f'Resultado: {dados_processados}')"
   ]
  },
  {
   "cell_type": "code",
   "execution_count": 11,
   "id": "1f06c8d7-2cb6-4762-b08b-7e948372e223",
   "metadata": {},
   "outputs": [
    {
     "name": "stdout",
     "output_type": "stream",
     "text": [
      "Resultado: N/A\n"
     ]
    }
   ],
   "source": [
    "\n",
    "\n",
    "dados_processados = (\n",
    "    processa_dados(dados_banco) \n",
    "    if (dados_banco := busca_dados()) is not None\n",
    "    else 'N/A'\n",
    ")\n",
    "\n",
    "print(f'Resultado: {dados_processados}')"
   ]
  },
  {
   "cell_type": "code",
   "execution_count": 12,
   "id": "37baf1ac-6b55-4fcf-bf3b-1e7d270126e5",
   "metadata": {},
   "outputs": [
    {
     "name": "stdout",
     "output_type": "stream",
     "text": [
      "Resultado: N/A\n"
     ]
    }
   ],
   "source": [
    "\n",
    "\n",
    "dados_processados = (\n",
    "    processa_dados(dados_banco) \n",
    "    if (dados_banco := busca_dados()) is not None\n",
    "    else 'N/A'\n",
    ")\n",
    "\n",
    "print(f'Resultado: {dados_processados}')"
   ]
  },
  {
   "cell_type": "code",
   "execution_count": 13,
   "id": "a1709f69-65b8-4acb-8220-42a1b4799832",
   "metadata": {},
   "outputs": [
    {
     "name": "stdout",
     "output_type": "stream",
     "text": [
      "Resultado: Dados \"xxxx\" foram processados\n"
     ]
    }
   ],
   "source": [
    "\n",
    "\n",
    "dados_processados = (\n",
    "    processa_dados(dados_banco) \n",
    "    if (dados_banco := busca_dados()) is not None\n",
    "    else 'N/A'\n",
    ")\n",
    "\n",
    "print(f'Resultado: {dados_processados}')\n"
   ]
  },
  {
   "cell_type": "code",
   "execution_count": 14,
   "id": "7fe83db9-6f19-4225-9c8f-df69a21ee730",
   "metadata": {},
   "outputs": [
    {
     "name": "stdout",
     "output_type": "stream",
     "text": [
      "Resultado: N/A\n"
     ]
    }
   ],
   "source": [
    "\n",
    "\n",
    "dados_processados = (\n",
    "    processa_dados(dados_banco) \n",
    "    if (dados_banco := busca_dados()) is not None\n",
    "    else 'N/A'\n",
    ")\n",
    "\n",
    "print(f'Resultado: {dados_processados}')"
   ]
  },
  {
   "cell_type": "code",
   "execution_count": 17,
   "id": "87ca2e51-1137-4690-aff9-b652c81a3e86",
   "metadata": {},
   "outputs": [
    {
     "name": "stdout",
     "output_type": "stream",
     "text": [
      "Resultado: Dados \"xxxx\" foram processados\n"
     ]
    }
   ],
   "source": [
    "\n",
    "\n",
    "dados_processados = (\n",
    "    processa_dados(dados_banco) \n",
    "    if (dados_banco := busca_dados()) is not None\n",
    "    else 'N/A'\n",
    ")\n",
    "\n",
    "print(f'Resultado: {dados_processados}')"
   ]
  },
  {
   "cell_type": "code",
   "execution_count": 16,
   "id": "0e168226-10aa-4873-b72d-f232ffeaeb14",
   "metadata": {},
   "outputs": [
    {
     "name": "stdout",
     "output_type": "stream",
     "text": [
      "Resultado: Dados \"xxxx\" foram processados\n"
     ]
    }
   ],
   "source": [
    "\n",
    "\n",
    "dados_processados = (\n",
    "    processa_dados(dados_banco) \n",
    "    if (dados_banco := busca_dados()) is not None\n",
    "    else 'N/A'\n",
    ")\n",
    "\n",
    "print(f'Resultado: {dados_processados}')\n"
   ]
  },
  {
   "cell_type": "code",
   "execution_count": null,
   "id": "d0a3af4c-fb62-4c28-8c2e-118b6892239b",
   "metadata": {},
   "outputs": [],
   "source": [
    "\n",
    "\n",
    "dados_processados = (\n",
    "    processa_dados(dados_banco) \n",
    "    if (dados_banco := busca_dados()) is not None\n",
    "    else 'N/A'\n",
    ")\n",
    "\n",
    "print(f'Resultado: {dados_processados}')\n"
   ]
  }
 ],
 "metadata": {
  "kernelspec": {
   "display_name": "Python 3 (ipykernel)",
   "language": "python",
   "name": "python3"
  },
  "language_info": {
   "codemirror_mode": {
    "name": "ipython",
    "version": 3
   },
   "file_extension": ".py",
   "mimetype": "text/x-python",
   "name": "python",
   "nbconvert_exporter": "python",
   "pygments_lexer": "ipython3",
   "version": "3.12.3"
  }
 },
 "nbformat": 4,
 "nbformat_minor": 5
}
