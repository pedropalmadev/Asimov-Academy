{
 "cells": [
  {
   "cell_type": "code",
   "execution_count": 1,
   "id": "3db135fb-7d3e-4b1e-8124-8298d72cd05f",
   "metadata": {},
   "outputs": [
    {
     "data": {
      "text/plain": [
       "3.3333333333333335"
      ]
     },
     "execution_count": 1,
     "metadata": {},
     "output_type": "execute_result"
    }
   ],
   "source": [
    "10 / 3"
   ]
  },
  {
   "cell_type": "code",
   "execution_count": 2,
   "id": "23e90ebd-7347-48f3-8896-b301e10a08be",
   "metadata": {},
   "outputs": [
    {
     "data": {
      "text/plain": [
       "3"
      ]
     },
     "execution_count": 2,
     "metadata": {},
     "output_type": "execute_result"
    }
   ],
   "source": [
    "10 // 3"
   ]
  },
  {
   "cell_type": "code",
   "execution_count": 4,
   "id": "0ae306b2-3b2f-4bde-9bf1-82439e0b0221",
   "metadata": {},
   "outputs": [
    {
     "data": {
      "text/plain": [
       "2"
      ]
     },
     "execution_count": 4,
     "metadata": {},
     "output_type": "execute_result"
    }
   ],
   "source": [
    "11 % 3"
   ]
  },
  {
   "cell_type": "markdown",
   "id": "841cfa18-41f9-471c-9484-d3b942e7e6fe",
   "metadata": {},
   "source": [
    "255 % 73"
   ]
  },
  {
   "cell_type": "code",
   "execution_count": 5,
   "id": "ee4dba5c-dc5a-45bf-a796-c8679acb01af",
   "metadata": {},
   "outputs": [
    {
     "data": {
      "text/plain": [
       "40"
      ]
     },
     "execution_count": 5,
     "metadata": {},
     "output_type": "execute_result"
    }
   ],
   "source": [
    "255 % 43"
   ]
  },
  {
   "cell_type": "code",
   "execution_count": 6,
   "id": "298f352d-620d-4164-9fc5-c043287b54ad",
   "metadata": {},
   "outputs": [
    {
     "data": {
      "text/plain": [
       "44563993"
      ]
     },
     "execution_count": 6,
     "metadata": {},
     "output_type": "execute_result"
    }
   ],
   "source": [
    "482848282 % 438284289"
   ]
  },
  {
   "cell_type": "code",
   "execution_count": 13,
   "id": "47639084-c2c1-40ab-886d-73057adfb66f",
   "metadata": {},
   "outputs": [],
   "source": [
    "segundos_totais = 2333"
   ]
  },
  {
   "cell_type": "code",
   "execution_count": 8,
   "id": "fe0c8c36-15ba-4e77-aa2f-f907bd2340a8",
   "metadata": {},
   "outputs": [
    {
     "data": {
      "text/plain": [
       "1.0833333333333333"
      ]
     },
     "execution_count": 8,
     "metadata": {},
     "output_type": "execute_result"
    }
   ],
   "source": [
    "segundos_totais / 60"
   ]
  },
  {
   "cell_type": "code",
   "execution_count": 14,
   "id": "cc28bd09-7796-4102-8961-07b391d192ce",
   "metadata": {},
   "outputs": [],
   "source": [
    "minutos = segundos_totais // 60"
   ]
  },
  {
   "cell_type": "code",
   "execution_count": 15,
   "id": "2603e8fb-b7c6-4b86-8bbe-a7b001750c62",
   "metadata": {},
   "outputs": [],
   "source": [
    "segundos = segundos_totais % 60"
   ]
  },
  {
   "cell_type": "code",
   "execution_count": 11,
   "id": "36fedf26-68e0-485c-a86f-3b60c894f2b4",
   "metadata": {},
   "outputs": [
    {
     "data": {
      "text/plain": [
       "5"
      ]
     },
     "execution_count": 11,
     "metadata": {},
     "output_type": "execute_result"
    }
   ],
   "source": [
    "segundos"
   ]
  },
  {
   "cell_type": "code",
   "execution_count": 16,
   "id": "3024359e-9f42-47a2-818f-a8e83f2e941f",
   "metadata": {},
   "outputs": [
    {
     "name": "stdout",
     "output_type": "stream",
     "text": [
      "38min 53seg\n"
     ]
    }
   ],
   "source": [
    "print(f'{minutos}min {segundos}seg')"
   ]
  },
  {
   "cell_type": "code",
   "execution_count": 18,
   "id": "26deb9a1-0fcc-44bb-8f4a-900b48039a71",
   "metadata": {},
   "outputs": [
    {
     "name": "stdout",
     "output_type": "stream",
     "text": [
      "A cor do valor -1 é vermelho\n",
      "A cor do valor 0 é azul\n",
      "A cor do valor 1 é azul\n"
     ]
    }
   ],
   "source": [
    "def pegar_cor(valor):\n",
    "    return 'vermelho' if valor < 0 else 'azul'\n",
    "\n",
    "\n",
    "for valor in [-1,0,1]:\n",
    "    print(f'A cor do valor {valor} é {pegar_cor(valor)}')"
   ]
  },
  {
   "cell_type": "code",
   "execution_count": 19,
   "id": "c99472a2-82c1-4767-b8ec-e6de91f9213c",
   "metadata": {},
   "outputs": [
    {
     "data": {
      "text/plain": [
       "[1, 4, 3, 16]"
      ]
     },
     "execution_count": 19,
     "metadata": {},
     "output_type": "execute_result"
    }
   ],
   "source": [
    "numeros = [1,2,3,4]\n",
    "\n",
    "pares_quadrados = [\n",
    "    n ** 2\n",
    "    if n % 2 == 0\n",
    "    else n\n",
    "    for n in numeros\n",
    "]\n",
    "\n",
    "pares_quadrados"
   ]
  },
  {
   "cell_type": "code",
   "execution_count": null,
   "id": "7a0c97b8-a181-4cbc-aa09-1ca44f3432c1",
   "metadata": {},
   "outputs": [],
   "source": []
  }
 ],
 "metadata": {
  "kernelspec": {
   "display_name": "Python 3 (ipykernel)",
   "language": "python",
   "name": "python3"
  },
  "language_info": {
   "codemirror_mode": {
    "name": "ipython",
    "version": 3
   },
   "file_extension": ".py",
   "mimetype": "text/x-python",
   "name": "python",
   "nbconvert_exporter": "python",
   "pygments_lexer": "ipython3",
   "version": "3.12.3"
  }
 },
 "nbformat": 4,
 "nbformat_minor": 5
}
