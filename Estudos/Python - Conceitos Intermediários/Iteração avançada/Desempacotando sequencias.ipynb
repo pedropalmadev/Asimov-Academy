{
 "cells": [
  {
   "cell_type": "code",
   "execution_count": 1,
   "id": "4c1fed4d-1672-4eb7-a7ce-a61bb84a1654",
   "metadata": {},
   "outputs": [],
   "source": [
    "seq = (10, 20, 30)"
   ]
  },
  {
   "cell_type": "code",
   "execution_count": 2,
   "id": "b8b163a8-9925-4058-b3ac-3e9c29706450",
   "metadata": {},
   "outputs": [],
   "source": [
    "a, b, c = seq"
   ]
  },
  {
   "cell_type": "code",
   "execution_count": 6,
   "id": "f050fcbf-92aa-477d-b9a3-94122343482c",
   "metadata": {},
   "outputs": [
    {
     "data": {
      "text/plain": [
       "10"
      ]
     },
     "execution_count": 6,
     "metadata": {},
     "output_type": "execute_result"
    }
   ],
   "source": [
    "a"
   ]
  },
  {
   "cell_type": "code",
   "execution_count": 4,
   "id": "efacfdf9-44b6-41a1-8f60-d0b4c463ec8b",
   "metadata": {},
   "outputs": [
    {
     "data": {
      "text/plain": [
       "20"
      ]
     },
     "execution_count": 4,
     "metadata": {},
     "output_type": "execute_result"
    }
   ],
   "source": [
    "b"
   ]
  },
  {
   "cell_type": "code",
   "execution_count": 5,
   "id": "cbec84d9-8226-443e-b908-66474e1eb364",
   "metadata": {},
   "outputs": [
    {
     "data": {
      "text/plain": [
       "30"
      ]
     },
     "execution_count": 5,
     "metadata": {},
     "output_type": "execute_result"
    }
   ],
   "source": [
    "c"
   ]
  },
  {
   "cell_type": "code",
   "execution_count": 7,
   "id": "4d883645-a584-4b3f-90cc-cd48f3a2eb89",
   "metadata": {},
   "outputs": [
    {
     "name": "stdout",
     "output_type": "stream",
     "text": [
      "chave1 valor1\n",
      "chave2 valor2\n",
      "chave3 valor3\n"
     ]
    }
   ],
   "source": [
    "dic = {\n",
    "    'chave1':'valor1',\n",
    "    'chave2':'valor2',\n",
    "    'chave3':'valor3',\n",
    "}\n",
    "\n",
    "for chave, valor in dic.items():\n",
    "    print(chave, valor)"
   ]
  },
  {
   "cell_type": "code",
   "execution_count": 8,
   "id": "a71d04e8-3884-471d-995c-bbdc67667d0d",
   "metadata": {},
   "outputs": [],
   "source": [
    "nomes = ['Juliano', 'Laura', 'Roberto', 'Guilherme']\n",
    "idades = [30, 24, 19, 47]"
   ]
  },
  {
   "cell_type": "code",
   "execution_count": 9,
   "id": "6e2c4dc4-65cd-4ea5-98ac-0a708f700ed9",
   "metadata": {},
   "outputs": [
    {
     "name": "stdout",
     "output_type": "stream",
     "text": [
      "(0, ('Juliano', 30))\n",
      "(1, ('Laura', 24))\n",
      "(2, ('Roberto', 19))\n",
      "(3, ('Guilherme', 47))\n"
     ]
    }
   ],
   "source": [
    "for elemento in enumerate(zip(nomes, idades)):\n",
    "    print(elemento)"
   ]
  },
  {
   "cell_type": "code",
   "execution_count": 10,
   "id": "389a9108-5985-4c96-a168-55b161644a1b",
   "metadata": {},
   "outputs": [
    {
     "name": "stdout",
     "output_type": "stream",
     "text": [
      "0 Juliano 30\n",
      "1 Laura 24\n",
      "2 Roberto 19\n",
      "3 Guilherme 47\n"
     ]
    }
   ],
   "source": [
    "for i, (nome, idade) in enumerate(zip(nomes, idades)):\n",
    "    print(i, nome, idade)"
   ]
  },
  {
   "cell_type": "code",
   "execution_count": 12,
   "id": "f6ee71fc-53ad-40cb-bf9c-16c60193b8f4",
   "metadata": {},
   "outputs": [
    {
     "ename": "ValueError",
     "evalue": "too many values to unpack (expected 2)",
     "output_type": "error",
     "traceback": [
      "\u001b[1;31m---------------------------------------------------------------------------\u001b[0m",
      "\u001b[1;31mValueError\u001b[0m                                Traceback (most recent call last)",
      "Cell \u001b[1;32mIn[12], line 1\u001b[0m\n\u001b[1;32m----> 1\u001b[0m a, b \u001b[38;5;241m=\u001b[39m (\u001b[38;5;241m1\u001b[39m,\u001b[38;5;241m2\u001b[39m, \u001b[38;5;241m3\u001b[39m)\n",
      "\u001b[1;31mValueError\u001b[0m: too many values to unpack (expected 2)"
     ]
    }
   ],
   "source": [
    "a, b = (1,2, 3)"
   ]
  },
  {
   "cell_type": "code",
   "execution_count": 14,
   "id": "04c4a04c-79d5-448f-9808-7e32c093c397",
   "metadata": {},
   "outputs": [],
   "source": [
    "minha_lista = [1, 2, 3, 4, 5]\n",
    "\n",
    "primeiro, *meio, ultimo = minha_lista"
   ]
  },
  {
   "cell_type": "code",
   "execution_count": 15,
   "id": "1fe4d160-0c7a-401c-843c-1817bcec5e56",
   "metadata": {},
   "outputs": [
    {
     "data": {
      "text/plain": [
       "1"
      ]
     },
     "execution_count": 15,
     "metadata": {},
     "output_type": "execute_result"
    }
   ],
   "source": [
    "primeiro"
   ]
  },
  {
   "cell_type": "markdown",
   "id": "8e4ba2b1-198f-4402-889d-3658ba666371",
   "metadata": {},
   "source": [
    "meio"
   ]
  },
  {
   "cell_type": "code",
   "execution_count": 16,
   "id": "86935710-9aee-4198-a524-3a4326ab9845",
   "metadata": {},
   "outputs": [
    {
     "data": {
      "text/plain": [
       "[2, 3, 4]"
      ]
     },
     "execution_count": 16,
     "metadata": {},
     "output_type": "execute_result"
    }
   ],
   "source": [
    "meio"
   ]
  },
  {
   "cell_type": "code",
   "execution_count": 17,
   "id": "24a7db10-26f0-409a-bb0c-5ec5b429fcc6",
   "metadata": {},
   "outputs": [],
   "source": [
    "primeiro, *resto = (1,2,3,4)"
   ]
  },
  {
   "cell_type": "code",
   "execution_count": 18,
   "id": "ed075b95-b99c-418d-a2be-b84b4d58a67e",
   "metadata": {},
   "outputs": [
    {
     "data": {
      "text/plain": [
       "1"
      ]
     },
     "execution_count": 18,
     "metadata": {},
     "output_type": "execute_result"
    }
   ],
   "source": [
    "primeiro"
   ]
  },
  {
   "cell_type": "code",
   "execution_count": 19,
   "id": "e5d88d0c-bd09-4e26-8e17-22d5df85e539",
   "metadata": {},
   "outputs": [
    {
     "data": {
      "text/plain": [
       "[2, 3, 4]"
      ]
     },
     "execution_count": 19,
     "metadata": {},
     "output_type": "execute_result"
    }
   ],
   "source": [
    "resto"
   ]
  },
  {
   "cell_type": "code",
   "execution_count": null,
   "id": "0910a846-c19e-427d-8c9a-df70a73d3d39",
   "metadata": {},
   "outputs": [],
   "source": []
  }
 ],
 "metadata": {
  "kernelspec": {
   "display_name": "Python 3 (ipykernel)",
   "language": "python",
   "name": "python3"
  },
  "language_info": {
   "codemirror_mode": {
    "name": "ipython",
    "version": 3
   },
   "file_extension": ".py",
   "mimetype": "text/x-python",
   "name": "python",
   "nbconvert_exporter": "python",
   "pygments_lexer": "ipython3",
   "version": "3.12.3"
  }
 },
 "nbformat": 4,
 "nbformat_minor": 5
}
