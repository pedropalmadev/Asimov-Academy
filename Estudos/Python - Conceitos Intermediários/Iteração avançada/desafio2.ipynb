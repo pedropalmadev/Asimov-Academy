{
 "cells": [
  {
   "cell_type": "code",
   "execution_count": 43,
   "id": "30b9f97d-7eb3-4fe8-814f-d646b4e978a0",
   "metadata": {},
   "outputs": [
    {
     "name": "stdout",
     "output_type": "stream",
     "text": [
      "{('Prato Feito', 'Água'): 28.8}\n",
      "{('Prato Feito', 'Água'): 28.8, ('Prato Feito', 'Refrigerante'): 30.8}\n",
      "{('Prato Feito', 'Água'): 28.8, ('Prato Feito', 'Refrigerante'): 30.8, ('Prato Feito', 'Suco'): 32.8}\n",
      "{('Prato Feito', 'Água'): 28.8, ('Prato Feito', 'Refrigerante'): 30.8, ('Prato Feito', 'Suco'): 32.8, ('Salada', 'Água'): 25.8}\n",
      "{('Prato Feito', 'Água'): 28.8, ('Prato Feito', 'Refrigerante'): 30.8, ('Prato Feito', 'Suco'): 32.8, ('Salada', 'Água'): 25.8, ('Salada', 'Refrigerante'): 27.8}\n",
      "{('Prato Feito', 'Água'): 28.8, ('Prato Feito', 'Refrigerante'): 30.8, ('Prato Feito', 'Suco'): 32.8, ('Salada', 'Água'): 25.8, ('Salada', 'Refrigerante'): 27.8, ('Salada', 'Suco'): 29.8}\n",
      "{('Prato Feito', 'Água'): 28.8, ('Prato Feito', 'Refrigerante'): 30.8, ('Prato Feito', 'Suco'): 32.8, ('Salada', 'Água'): 25.8, ('Salada', 'Refrigerante'): 27.8, ('Salada', 'Suco'): 29.8, ('Strogonoff', 'Água'): 33.8}\n",
      "{('Prato Feito', 'Água'): 28.8, ('Prato Feito', 'Refrigerante'): 30.8, ('Prato Feito', 'Suco'): 32.8, ('Salada', 'Água'): 25.8, ('Salada', 'Refrigerante'): 27.8, ('Salada', 'Suco'): 29.8, ('Strogonoff', 'Água'): 33.8, ('Strogonoff', 'Refrigerante'): 35.8}\n",
      "{('Prato Feito', 'Água'): 28.8, ('Prato Feito', 'Refrigerante'): 30.8, ('Prato Feito', 'Suco'): 32.8, ('Salada', 'Água'): 25.8, ('Salada', 'Refrigerante'): 27.8, ('Salada', 'Suco'): 29.8, ('Strogonoff', 'Água'): 33.8, ('Strogonoff', 'Refrigerante'): 35.8, ('Strogonoff', 'Suco'): 37.8}\n",
      "{('Prato Feito', 'Água'): 28.8, ('Prato Feito', 'Refrigerante'): 30.8, ('Prato Feito', 'Suco'): 32.8, ('Salada', 'Água'): 25.8, ('Salada', 'Refrigerante'): 27.8, ('Salada', 'Suco'): 29.8, ('Strogonoff', 'Água'): 33.8, ('Strogonoff', 'Refrigerante'): 35.8, ('Strogonoff', 'Suco'): 37.8, ('Feijoada', 'Água'): 36.8}\n",
      "{('Prato Feito', 'Água'): 28.8, ('Prato Feito', 'Refrigerante'): 30.8, ('Prato Feito', 'Suco'): 32.8, ('Salada', 'Água'): 25.8, ('Salada', 'Refrigerante'): 27.8, ('Salada', 'Suco'): 29.8, ('Strogonoff', 'Água'): 33.8, ('Strogonoff', 'Refrigerante'): 35.8, ('Strogonoff', 'Suco'): 37.8, ('Feijoada', 'Água'): 36.8, ('Feijoada', 'Refrigerante'): 38.8}\n",
      "{('Prato Feito', 'Água'): 28.8, ('Prato Feito', 'Refrigerante'): 30.8, ('Prato Feito', 'Suco'): 32.8, ('Salada', 'Água'): 25.8, ('Salada', 'Refrigerante'): 27.8, ('Salada', 'Suco'): 29.8, ('Strogonoff', 'Água'): 33.8, ('Strogonoff', 'Refrigerante'): 35.8, ('Strogonoff', 'Suco'): 37.8, ('Feijoada', 'Água'): 36.8, ('Feijoada', 'Refrigerante'): 38.8, ('Feijoada', 'Suco'): 40.8}\n"
     ]
    }
   ],
   "source": [
    "import itertools\n",
    "comidas = {\n",
    "    'Prato Feito': 24.90,\n",
    "    'Salada': 21.90,\n",
    "    'Strogonoff': 29.90,\n",
    "    'Feijoada': 32.90,\n",
    "}\n",
    "\n",
    "bebidas = {\n",
    "    'Água': 3.90,\n",
    "    'Refrigerante': 5.90,\n",
    "    'Suco': 7.90,\n",
    "}\n",
    "\n",
    "combos = {\n",
    "}\n",
    "\n",
    "\n",
    "\n",
    "#for (v1,p1), (v2,p2) in itertools.product(comidas.items(), bebidas.items()):\n",
    "#    combos[(v1,p1)] = round(p1 + p2, 2)\n",
    "#    print(combos)\n",
    "\n",
    "for comida, bebida in itertools.product(comidas, bebidas):\n",
    "    comida_valor = comidas[comida]\n",
    "    bebida_valor = bebidas[bebida]\n",
    "    combos[(comida, bebida)] = round(comida_valor + bebida_valor , 2)\n",
    "print(combos)\n"
   ]
  },
  {
   "cell_type": "code",
   "execution_count": null,
   "id": "0c3a6a13-7d34-4e3a-a8d1-b7ce9a467bcd",
   "metadata": {},
   "outputs": [],
   "source": []
  }
 ],
 "metadata": {
  "kernelspec": {
   "display_name": "Python 3 (ipykernel)",
   "language": "python",
   "name": "python3"
  },
  "language_info": {
   "codemirror_mode": {
    "name": "ipython",
    "version": 3
   },
   "file_extension": ".py",
   "mimetype": "text/x-python",
   "name": "python",
   "nbconvert_exporter": "python",
   "pygments_lexer": "ipython3",
   "version": "3.12.3"
  }
 },
 "nbformat": 4,
 "nbformat_minor": 5
}
