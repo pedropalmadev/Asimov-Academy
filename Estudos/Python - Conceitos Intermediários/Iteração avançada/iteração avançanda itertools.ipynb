{
 "cells": [
  {
   "cell_type": "code",
   "execution_count": 1,
   "id": "9c914508-a1b3-4652-9d4c-0aa650d0f38b",
   "metadata": {},
   "outputs": [],
   "source": [
    "import itertools"
   ]
  },
  {
   "cell_type": "code",
   "execution_count": 2,
   "id": "e12cb336-2b0c-4716-a718-37be5ba2eecf",
   "metadata": {},
   "outputs": [
    {
     "name": "stdout",
     "output_type": "stream",
     "text": [
      "1\n",
      "2\n",
      "3\n",
      "a\n",
      "b\n",
      "c\n"
     ]
    }
   ],
   "source": [
    "seq1 = (1,2,3)\n",
    "seq2 = ['a','b','c']\n",
    "\n",
    "for element in itertools.chain(seq1, seq2):\n",
    "    print(element)"
   ]
  },
  {
   "cell_type": "code",
   "execution_count": 5,
   "id": "a879dfaf-6eed-4886-8399-09ad916ac263",
   "metadata": {},
   "outputs": [
    {
     "name": "stdout",
     "output_type": "stream",
     "text": [
      "('Juliano', 30, 'xxx', 'juliano@mail.com')\n",
      "('Laura', 24, 'yyy', 'laura@mail.com')\n",
      "('Roberto', 19, 'zzz', '???')\n",
      "('Guilherme', 47, '???', '???')\n"
     ]
    }
   ],
   "source": [
    "nomes = ['Juliano', 'Laura', 'Roberto', 'Guilherme']\n",
    "idades = [30, 24, 19, 47]\n",
    "cpfs = ['xxx','yyy','zzz']\n",
    "emails = ['juliano@mail.com', 'laura@mail.com']\n",
    "\n",
    "for elemento in itertools.zip_longest(nomes,idades,cpfs,emails, fillvalue='???'):\n",
    "    print(elemento)"
   ]
  },
  {
   "cell_type": "code",
   "execution_count": 6,
   "id": "b1a6efba-51b8-486b-b9a4-94ff6e424bbe",
   "metadata": {},
   "outputs": [
    {
     "name": "stdout",
     "output_type": "stream",
     "text": [
      "('Churrasco', 'Refrigerante')\n",
      "('Churrasco', 'Água')\n",
      "('Pizza', 'Refrigerante')\n",
      "('Pizza', 'Água')\n",
      "('Sushi', 'Refrigerante')\n",
      "('Sushi', 'Água')\n"
     ]
    }
   ],
   "source": [
    "comidas = ['Churrasco','Pizza','Sushi']\n",
    "bebidas = ('Refrigerante','Água')\n",
    "\n",
    "for prato in itertools.product(comidas, bebidas):\n",
    "    print(prato)"
   ]
  },
  {
   "cell_type": "code",
   "execution_count": 12,
   "id": "2890ef12-d2c6-4e84-bc8d-240c636edede",
   "metadata": {},
   "outputs": [
    {
     "name": "stdout",
     "output_type": "stream",
     "text": [
      "('Juliano', 'Laura')\n",
      "('Juliano', 'Roberto')\n",
      "('Juliano', 'Guilherme')\n",
      "('Laura', 'Roberto')\n",
      "('Laura', 'Guilherme')\n",
      "('Roberto', 'Guilherme')\n"
     ]
    }
   ],
   "source": [
    "nomes = ['Juliano', 'Laura', 'Roberto', 'Guilherme']\n",
    "\n",
    "for comb in itertools.combinations(nomes, 2):\n",
    "    print(comb)"
   ]
  },
  {
   "cell_type": "code",
   "execution_count": null,
   "id": "4f092d7a-89ef-4c40-9584-99107f4e9bbb",
   "metadata": {},
   "outputs": [],
   "source": [
    "for con in itertools.cycle(['azul','amarelo']):\n",
    "    print(con)\n",
    "    input"
   ]
  }
 ],
 "metadata": {
  "kernelspec": {
   "display_name": "Python 3 (ipykernel)",
   "language": "python",
   "name": "python3"
  },
  "language_info": {
   "codemirror_mode": {
    "name": "ipython",
    "version": 3
   },
   "file_extension": ".py",
   "mimetype": "text/x-python",
   "name": "python",
   "nbconvert_exporter": "python",
   "pygments_lexer": "ipython3",
   "version": "3.12.3"
  }
 },
 "nbformat": 4,
 "nbformat_minor": 5
}
