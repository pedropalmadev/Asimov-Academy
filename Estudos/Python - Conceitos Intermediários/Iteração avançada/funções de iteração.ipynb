{
 "cells": [
  {
   "cell_type": "code",
   "execution_count": 14,
   "id": "92bca180-654a-4c51-9d66-40710d7f7b45",
   "metadata": {},
   "outputs": [
    {
     "name": "stdout",
     "output_type": "stream",
     "text": [
      "Índice 1 -> Nome Juliano\n",
      "Índice 2 -> Nome José\n",
      "Índice 3 -> Nome Lucas\n",
      "Índice 4 -> Nome Luiza\n"
     ]
    }
   ],
   "source": [
    "nomes = ['Juliano', 'José', 'Lucas','Luiza']\n",
    "\n",
    "for i, nome in enumerate(nomes, 1):\n",
    "    print(f'Índice {i} -> Nome {nome}')\n"
   ]
  },
  {
   "cell_type": "code",
   "execution_count": 18,
   "id": "ff16a08e-1e90-4720-bff6-4feef5ba268a",
   "metadata": {},
   "outputs": [
    {
     "data": {
      "text/plain": [
       "[10, 4, 1, -1]"
      ]
     },
     "execution_count": 18,
     "metadata": {},
     "output_type": "execute_result"
    }
   ],
   "source": [
    "conj = {1, 10, -1, 4}\n",
    "ordenados = sorted(conj, reverse=True)\n",
    "ordenados"
   ]
  },
  {
   "cell_type": "code",
   "execution_count": 19,
   "id": "7cabe1a6-c390-4f31-b5de-eb1e4d5648a7",
   "metadata": {},
   "outputs": [
    {
     "name": "stdout",
     "output_type": "stream",
     "text": [
      "9\n",
      "8\n",
      "7\n",
      "6\n",
      "5\n",
      "4\n",
      "3\n",
      "2\n",
      "1\n",
      "0\n"
     ]
    }
   ],
   "source": [
    "for i in reversed(range(10)):\n",
    "    print(i)"
   ]
  },
  {
   "cell_type": "code",
   "execution_count": 20,
   "id": "76686e42-5b8f-4d63-9d65-4c7e26d92deb",
   "metadata": {},
   "outputs": [],
   "source": [
    "nomes = ['Juliano', 'Laura', 'Roberto', 'Guilherme']\n",
    "idades = [30, 24, 19, 47]"
   ]
  },
  {
   "cell_type": "code",
   "execution_count": 21,
   "id": "1b87f6e4-4d79-41c0-933b-953b83c64a52",
   "metadata": {},
   "outputs": [
    {
     "name": "stdout",
     "output_type": "stream",
     "text": [
      "('Juliano', 30)\n",
      "('Laura', 24)\n",
      "('Roberto', 19)\n",
      "('Guilherme', 47)\n"
     ]
    }
   ],
   "source": [
    "for elemento in zip(nomes, idades):\n",
    "    print(elemento)"
   ]
  },
  {
   "cell_type": "code",
   "execution_count": null,
   "id": "429cdbb2-8d23-41f8-ada8-a18822a92138",
   "metadata": {},
   "outputs": [],
   "source": [
    "sq"
   ]
  }
 ],
 "metadata": {
  "kernelspec": {
   "display_name": "Python 3 (ipykernel)",
   "language": "python",
   "name": "python3"
  },
  "language_info": {
   "codemirror_mode": {
    "name": "ipython",
    "version": 3
   },
   "file_extension": ".py",
   "mimetype": "text/x-python",
   "name": "python",
   "nbconvert_exporter": "python",
   "pygments_lexer": "ipython3",
   "version": "3.12.3"
  }
 },
 "nbformat": 4,
 "nbformat_minor": 5
}
