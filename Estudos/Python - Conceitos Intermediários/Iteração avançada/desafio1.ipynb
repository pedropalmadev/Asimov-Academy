{
 "cells": [
  {
   "cell_type": "code",
   "execution_count": 3,
   "id": "d5289894-5850-476c-8cfc-94bde6ba35a7",
   "metadata": {},
   "outputs": [],
   "source": [
    "L1 = [1,2,3]\n",
    "L2 = ['a','b','c','d','e']\n",
    "import itertools"
   ]
  },
  {
   "cell_type": "code",
   "execution_count": 13,
   "id": "d0dda7ac-7670-4326-8046-3842eb3f8786",
   "metadata": {},
   "outputs": [],
   "source": [
    "import itertools\n",
    "def retorna_intercalado(lista1,lista2):\n",
    "    resultado = []\n",
    "    for valor1, valor2 in itertools.zip_longest(lista1,lista2):\n",
    "        if valor1 is not None:\n",
    "            resultado.append(valor1)\n",
    "        if valor2 is not None:\n",
    "            resultado.append(valor2)\n",
    "    return resultado"
   ]
  },
  {
   "cell_type": "code",
   "execution_count": 14,
   "id": "a60679a6-741b-4414-87c8-6cd5c3611073",
   "metadata": {},
   "outputs": [
    {
     "name": "stdout",
     "output_type": "stream",
     "text": [
      "[1, 'a', 2, 'b', 3, 'c', 'd', 'e']\n"
     ]
    }
   ],
   "source": [
    "print(retorna_intercalado(L1,L2))"
   ]
  },
  {
   "cell_type": "code",
   "execution_count": null,
   "id": "11d336c0-ad6c-41f9-b000-0cfa71e0763b",
   "metadata": {},
   "outputs": [],
   "source": []
  }
 ],
 "metadata": {
  "kernelspec": {
   "display_name": "Python 3 (ipykernel)",
   "language": "python",
   "name": "python3"
  },
  "language_info": {
   "codemirror_mode": {
    "name": "ipython",
    "version": 3
   },
   "file_extension": ".py",
   "mimetype": "text/x-python",
   "name": "python",
   "nbconvert_exporter": "python",
   "pygments_lexer": "ipython3",
   "version": "3.12.3"
  }
 },
 "nbformat": 4,
 "nbformat_minor": 5
}
