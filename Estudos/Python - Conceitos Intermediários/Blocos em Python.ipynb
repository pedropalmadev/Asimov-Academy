{
 "cells": [
  {
   "cell_type": "code",
   "execution_count": 1,
   "id": "1f9ad437-4fac-4200-9ee6-9013164bd412",
   "metadata": {},
   "outputs": [
    {
     "name": "stdout",
     "output_type": "stream",
     "text": [
      "Arquivo foi fechado\n"
     ]
    }
   ],
   "source": [
    "with open('notas.txt','w') as arquivo:\n",
    "    arquivo.write('Esta é uma anotação especial!')\n",
    "\n",
    "print('Arquivo foi fechado')"
   ]
  },
  {
   "cell_type": "code",
   "execution_count": 2,
   "id": "bb0bb565-7b1e-4d47-87aa-3451f89ecd33",
   "metadata": {},
   "outputs": [
    {
     "ename": "SyntaxError",
     "evalue": "incomplete input (3072036892.py, line 4)",
     "output_type": "error",
     "traceback": [
      "\u001b[1;36m  Cell \u001b[1;32mIn[2], line 4\u001b[1;36m\u001b[0m\n\u001b[1;33m    print(f'Diretorio temporário criado: {temp_dir\u001b[0m\n\u001b[1;37m                                                  ^\u001b[0m\n\u001b[1;31mSyntaxError\u001b[0m\u001b[1;31m:\u001b[0m incomplete input\n"
     ]
    }
   ],
   "source": [
    "import tempfile\n",
    "\n",
    "with tempfile.TemporaryDirectory() as temp_dir:\n",
    "    print(f'Diretorio temporário criado: {temp_dir"
   ]
  },
  {
   "cell_type": "code",
   "execution_count": 3,
   "id": "71c66c8a-1387-426d-8aa2-ae8e7f18cd05",
   "metadata": {},
   "outputs": [
    {
     "name": "stdout",
     "output_type": "stream",
     "text": [
      "Diretorio temporário criado: C:\\Users\\Pedro\\AppData\\Local\\Temp\\tmpv6igr8bm\n"
     ]
    },
    {
     "name": "stdin",
     "output_type": "stream",
     "text": [
      " \n"
     ]
    }
   ],
   "source": [
    "import tempfile\n",
    "\n",
    "with tempfile.TemporaryDirectory() as temp_dir:\n",
    "    print(f'Diretorio temporário criado: {temp_dir}')\n",
    "    input()\n",
    "    "
   ]
  },
  {
   "cell_type": "code",
   "execution_count": 4,
   "id": "6f33b17b-f3be-4d42-b2a9-d24190122986",
   "metadata": {},
   "outputs": [
    {
     "ename": "SyntaxError",
     "evalue": "invalid syntax (686685253.py, line 1)",
     "output_type": "error",
     "traceback": [
      "\u001b[1;36m  Cell \u001b[1;32mIn[4], line 1\u001b[1;36m\u001b[0m\n\u001b[1;33m    // BLOCO MATCH CASE\u001b[0m\n\u001b[1;37m    ^\u001b[0m\n\u001b[1;31mSyntaxError\u001b[0m\u001b[1;31m:\u001b[0m invalid syntax\n"
     ]
    }
   ],
   "source": [
    "// BLOCO MATCH CASE"
   ]
  },
  {
   "cell_type": "code",
   "execution_count": 5,
   "id": "185cf799-90c1-4114-b1df-68cb83f703de",
   "metadata": {},
   "outputs": [
    {
     "ename": "SyntaxError",
     "evalue": "invalid syntax (3888374362.py, line 1)",
     "output_type": "error",
     "traceback": [
      "\u001b[1;36m  Cell \u001b[1;32mIn[5], line 1\u001b[1;36m\u001b[0m\n\u001b[1;33m    *** BLOCO MATCH CASE ***\u001b[0m\n\u001b[1;37m    ^\u001b[0m\n\u001b[1;31mSyntaxError\u001b[0m\u001b[1;31m:\u001b[0m invalid syntax\n"
     ]
    }
   ],
   "source": [
    "*** BLOCO MATCH CASE ***"
   ]
  },
  {
   "cell_type": "code",
   "execution_count": 14,
   "id": "72926dd0-d07c-4ac9-b0f9-95cee6a44aa5",
   "metadata": {},
   "outputs": [],
   "source": [
    "op = []"
   ]
  },
  {
   "cell_type": "code",
   "execution_count": 15,
   "id": "801e55fe-527f-4777-b208-1c16930ca1fc",
   "metadata": {},
   "outputs": [
    {
     "name": "stdout",
     "output_type": "stream",
     "text": [
      "Opção inválida!\n"
     ]
    }
   ],
   "source": [
    "match op:\n",
    "    case int(op):\n",
    "        print('é int')\n",
    "    case str(op):\n",
    "        print('é str')\n",
    "    case _:\n",
    "        print('Opção inválida!')\n",
    "            "
   ]
  },
  {
   "cell_type": "code",
   "execution_count": 18,
   "id": "448a054d-6497-44c4-b291-e6178a15d652",
   "metadata": {},
   "outputs": [
    {
     "name": "stdout",
     "output_type": "stream",
     "text": [
      "Nenhuma info\n"
     ]
    }
   ],
   "source": [
    "notas = {\n",
    "    'João': 9,\n",
    "    'Maria': 9,\n",
    "    'Mateus': 9.2,\n",
    "}\n",
    "\n",
    "match notas:\n",
    "    case {'João':10}:\n",
    "        print('João tirou nota 10')\n",
    "    case _:\n",
    "        print('Nenhuma info')\n",
    "        "
   ]
  },
  {
   "cell_type": "code",
   "execution_count": null,
   "id": "265f8bf7-cef7-4269-a92f-fdcb03a27571",
   "metadata": {},
   "outputs": [],
   "source": []
  }
 ],
 "metadata": {
  "kernelspec": {
   "display_name": "Python 3 (ipykernel)",
   "language": "python",
   "name": "python3"
  },
  "language_info": {
   "codemirror_mode": {
    "name": "ipython",
    "version": 3
   },
   "file_extension": ".py",
   "mimetype": "text/x-python",
   "name": "python",
   "nbconvert_exporter": "python",
   "pygments_lexer": "ipython3",
   "version": "3.12.3"
  }
 },
 "nbformat": 4,
 "nbformat_minor": 5
}
