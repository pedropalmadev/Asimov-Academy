{
 "cells": [
  {
   "cell_type": "code",
   "execution_count": null,
   "id": "977db27e-a62d-40a6-898e-25f55a41ca27",
   "metadata": {},
   "outputs": [],
   "source": [
    "valor_de_busca = 'xxx'\n",
    "\n",
    "resultado = buscar_no_banco_de_dados(valor_de_busca)\n",
    "if resultado is None:\n",
    "    print(f'Nada foi encontraddo para o valor de busca \"{valor_de_busca}\".')\n",
    "else:\n",
    "    print(f'Resultado encontrados para o valor de busca \"{valor_de_busca}\": {resultado}')"
   ]
  },
  {
   "cell_type": "code",
   "execution_count": null,
   "id": "ab339812-3121-49ca-aa26-7358bb750ebb",
   "metadata": {},
   "outputs": [],
   "source": [
    "valor_de_busca = 'xxx'\n",
    "\n",
    "resultado = buscar_no_banco_de_dados(valor_de_busca)\n",
    "if (resultado := buscar_no_banco_de_dados(valor_de_busca)) is None:\n",
    "    print(f'Nada foi encontraddo para o valor de busca \"{valor_de_busca}\".')\n",
    "else:\n",
    "    print(f'Resultado encontrados para o valor de busca \"{valor_de_busca}\": {resultado}')\n"
   ]
  },
  {
   "cell_type": "code",
   "execution_count": 5,
   "id": "cc94283a-221d-4adc-a09d-09d09b6f13e6",
   "metadata": {},
   "outputs": [
    {
     "name": "stdout",
     "output_type": "stream",
     "text": [
      "4\n",
      "3\n",
      "2\n",
      "1\n",
      "0\n"
     ]
    }
   ],
   "source": [
    "n = 5\n",
    "while n > 0:\n",
    "    n -= 1\n",
    "    print(n)"
   ]
  },
  {
   "cell_type": "code",
   "execution_count": 11,
   "id": "181d32bb-57ac-4767-bde9-586850a36281",
   "metadata": {},
   "outputs": [
    {
     "name": "stdout",
     "output_type": "stream",
     "text": [
      "4\n",
      "3\n",
      "2\n",
      "1\n",
      "0\n"
     ]
    }
   ],
   "source": [
    "n = 5\n",
    "while (n := n - 1) >= 0:\n",
    "    print(n)"
   ]
  },
  {
   "cell_type": "code",
   "execution_count": null,
   "id": "ccb6bbfe-e1f6-4774-abc8-2bf937f8437b",
   "metadata": {},
   "outputs": [],
   "source": []
  }
 ],
 "metadata": {
  "kernelspec": {
   "display_name": "Python 3 (ipykernel)",
   "language": "python",
   "name": "python3"
  },
  "language_info": {
   "codemirror_mode": {
    "name": "ipython",
    "version": 3
   },
   "file_extension": ".py",
   "mimetype": "text/x-python",
   "name": "python",
   "nbconvert_exporter": "python",
   "pygments_lexer": "ipython3",
   "version": "3.12.3"
  }
 },
 "nbformat": 4,
 "nbformat_minor": 5
}
