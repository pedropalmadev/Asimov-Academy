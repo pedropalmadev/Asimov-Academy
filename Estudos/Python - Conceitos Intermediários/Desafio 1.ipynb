{
 "cells": [
  {
   "cell_type": "code",
   "execution_count": 8,
   "id": "8bbb97cb-0f64-4758-a025-6e082fb343ef",
   "metadata": {},
   "outputs": [],
   "source": [
    "def primo(n):\n",
    "    if n <= 2:\n",
    "        return True\n",
    "    for divisor in range(2,n):\n",
    "        if n % divisor == 0:\n",
    "            return False\n",
    "    return True"
   ]
  },
  {
   "cell_type": "code",
   "execution_count": 3,
   "id": "ad97895d-73c8-44c7-b5de-2cc9a65df4d7",
   "metadata": {},
   "outputs": [
    {
     "data": {
      "text/plain": [
       "True"
      ]
     },
     "execution_count": 3,
     "metadata": {},
     "output_type": "execute_result"
    }
   ],
   "source": [
    "primo(7)"
   ]
  },
  {
   "cell_type": "code",
   "execution_count": 4,
   "id": "e8e10d4a-917f-40ec-bdbf-c2e44dddf80a",
   "metadata": {},
   "outputs": [
    {
     "data": {
      "text/plain": [
       "False"
      ]
     },
     "execution_count": 4,
     "metadata": {},
     "output_type": "execute_result"
    }
   ],
   "source": [
    "primo(6)"
   ]
  },
  {
   "cell_type": "code",
   "execution_count": 5,
   "id": "b37db9b9-7417-4374-9e13-62feed0f41b1",
   "metadata": {},
   "outputs": [
    {
     "data": {
      "text/plain": [
       "True"
      ]
     },
     "execution_count": 5,
     "metadata": {},
     "output_type": "execute_result"
    }
   ],
   "source": [
    "primo(2)"
   ]
  },
  {
   "cell_type": "code",
   "execution_count": 9,
   "id": "d02421cb-6947-4234-b912-0c0f3ddd4807",
   "metadata": {},
   "outputs": [
    {
     "data": {
      "text/plain": [
       "True"
      ]
     },
     "execution_count": 9,
     "metadata": {},
     "output_type": "execute_result"
    }
   ],
   "source": [
    "primo(3)"
   ]
  },
  {
   "cell_type": "code",
   "execution_count": 7,
   "id": "02d9618f-57b2-4ad3-a5f0-2c0a54ef7714",
   "metadata": {},
   "outputs": [
    {
     "data": {
      "text/plain": [
       "False"
      ]
     },
     "execution_count": 7,
     "metadata": {},
     "output_type": "execute_result"
    }
   ],
   "source": [
    "primo(4)"
   ]
  },
  {
   "cell_type": "code",
   "execution_count": 11,
   "id": "a0e97c19-5bc3-4bbc-9108-21e8ed23e73c",
   "metadata": {},
   "outputs": [
    {
     "name": "stdout",
     "output_type": "stream",
     "text": [
      "Numero 1 é primo? True\n",
      "Numero 5 é primo? True\n",
      "Numero 10 é primo? False\n",
      "Numero 13 é primo? True\n",
      "Numero 15 é primo? False\n",
      "Numero 17 é primo? True\n"
     ]
    }
   ],
   "source": [
    "for n in [1,5, 10,13, 15, 17]:\n",
    "    print(f'Numero {n} é primo? {primo(n)}')"
   ]
  },
  {
   "cell_type": "code",
   "execution_count": null,
   "id": "6f918e05-7915-48fd-ba91-64bcd9dcb2fc",
   "metadata": {},
   "outputs": [],
   "source": []
  }
 ],
 "metadata": {
  "kernelspec": {
   "display_name": "Python 3 (ipykernel)",
   "language": "python",
   "name": "python3"
  },
  "language_info": {
   "codemirror_mode": {
    "name": "ipython",
    "version": 3
   },
   "file_extension": ".py",
   "mimetype": "text/x-python",
   "name": "python",
   "nbconvert_exporter": "python",
   "pygments_lexer": "ipython3",
   "version": "3.12.3"
  }
 },
 "nbformat": 4,
 "nbformat_minor": 5
}
