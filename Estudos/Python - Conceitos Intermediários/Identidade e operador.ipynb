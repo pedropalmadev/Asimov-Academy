{
 "cells": [
  {
   "cell_type": "code",
   "execution_count": 2,
   "id": "998abd72-5216-4960-91e6-3d6e826079b6",
   "metadata": {},
   "outputs": [],
   "source": [
    "lista_a = [1, 2, 3, 4 , 5]\n",
    "lista_b = [1, 2, 3, 4 , 5]"
   ]
  },
  {
   "cell_type": "code",
   "execution_count": 5,
   "id": "b55b3f20-b2f8-4157-bcb6-008efc7d97ff",
   "metadata": {},
   "outputs": [
    {
     "data": {
      "text/plain": [
       "False"
      ]
     },
     "execution_count": 5,
     "metadata": {},
     "output_type": "execute_result"
    }
   ],
   "source": [
    "lista_a == lista_b"
   ]
  },
  {
   "cell_type": "code",
   "execution_count": 4,
   "id": "b98557a2-fce3-449d-a0b5-52613c5eb70b",
   "metadata": {},
   "outputs": [],
   "source": [
    "lista_a.append(6)"
   ]
  },
  {
   "cell_type": "code",
   "execution_count": 6,
   "id": "d920a575-99c0-4b4e-883e-065ef5683abe",
   "metadata": {},
   "outputs": [],
   "source": [
    "lista_a = [1, 2, 3, 4 , 5]\n",
    "lista_b = [1, 2, 3, 4 , 5]"
   ]
  },
  {
   "cell_type": "code",
   "execution_count": 7,
   "id": "2602fb04-54a2-451e-865e-b81534d21027",
   "metadata": {},
   "outputs": [
    {
     "data": {
      "text/plain": [
       "False"
      ]
     },
     "execution_count": 7,
     "metadata": {},
     "output_type": "execute_result"
    }
   ],
   "source": [
    "lista_a is lista_b"
   ]
  },
  {
   "cell_type": "code",
   "execution_count": 8,
   "id": "d114b697-9c9b-43cb-9bf3-89613089a17d",
   "metadata": {},
   "outputs": [
    {
     "data": {
      "text/plain": [
       "True"
      ]
     },
     "execution_count": 8,
     "metadata": {},
     "output_type": "execute_result"
    }
   ],
   "source": [
    "lista_a == lista_b"
   ]
  },
  {
   "cell_type": "code",
   "execution_count": 9,
   "id": "3a1c9e74-ae5e-4abe-bd7f-28492c771c33",
   "metadata": {},
   "outputs": [
    {
     "name": "stderr",
     "output_type": "stream",
     "text": [
      "<>:1: SyntaxWarning: \"is\" with 'int' literal. Did you mean \"==\"?\n",
      "<>:1: SyntaxWarning: \"is\" with 'int' literal. Did you mean \"==\"?\n",
      "C:\\Users\\Pedro\\AppData\\Local\\Temp\\ipykernel_12924\\1728060598.py:1: SyntaxWarning: \"is\" with 'int' literal. Did you mean \"==\"?\n",
      "  1 is 1\n"
     ]
    },
    {
     "data": {
      "text/plain": [
       "True"
      ]
     },
     "execution_count": 9,
     "metadata": {},
     "output_type": "execute_result"
    }
   ],
   "source": [
    "1 is 1"
   ]
  },
  {
   "cell_type": "code",
   "execution_count": 10,
   "id": "5dd76b56-ce16-417d-9632-8905950aa0f9",
   "metadata": {},
   "outputs": [],
   "source": [
    "one = 1"
   ]
  },
  {
   "cell_type": "code",
   "execution_count": 11,
   "id": "f9280d65-a502-4c94-b805-42ba8f633bae",
   "metadata": {},
   "outputs": [
    {
     "name": "stderr",
     "output_type": "stream",
     "text": [
      "<>:1: SyntaxWarning: \"is\" with 'int' literal. Did you mean \"==\"?\n",
      "<>:1: SyntaxWarning: \"is\" with 'int' literal. Did you mean \"==\"?\n",
      "C:\\Users\\Pedro\\AppData\\Local\\Temp\\ipykernel_12924\\3401647976.py:1: SyntaxWarning: \"is\" with 'int' literal. Did you mean \"==\"?\n",
      "  one is 1\n"
     ]
    },
    {
     "data": {
      "text/plain": [
       "True"
      ]
     },
     "execution_count": 11,
     "metadata": {},
     "output_type": "execute_result"
    }
   ],
   "source": [
    "one is 1"
   ]
  },
  {
   "cell_type": "code",
   "execution_count": 12,
   "id": "b34bbf91-6286-4bfd-9de5-dd1923a4a9f6",
   "metadata": {},
   "outputs": [
    {
     "data": {
      "text/plain": [
       "True"
      ]
     },
     "execution_count": 12,
     "metadata": {},
     "output_type": "execute_result"
    }
   ],
   "source": [
    "True is True"
   ]
  },
  {
   "cell_type": "code",
   "execution_count": 15,
   "id": "d7381eb9-2d29-46ea-be05-36b18b45020c",
   "metadata": {},
   "outputs": [
    {
     "data": {
      "text/plain": [
       "True"
      ]
     },
     "execution_count": 15,
     "metadata": {},
     "output_type": "execute_result"
    }
   ],
   "source": [
    "False is False"
   ]
  },
  {
   "cell_type": "code",
   "execution_count": 19,
   "id": "cbed6e63-560f-4f4d-a62b-b984261be2fb",
   "metadata": {},
   "outputs": [
    {
     "name": "stdout",
     "output_type": "stream",
     "text": [
      "Valor nao é nulo\n"
     ]
    }
   ],
   "source": [
    "valor = None\n",
    "\n",
    "if valor is not None:\n",
    "    print('Valor é nulo')\n",
    "else:\n",
    "    print('Valor nao é nulo')"
   ]
  },
  {
   "cell_type": "code",
   "execution_count": null,
   "id": "1c5e257f-bc7a-4807-af9a-38154096afde",
   "metadata": {},
   "outputs": [],
   "source": []
  }
 ],
 "metadata": {
  "kernelspec": {
   "display_name": "Python 3 (ipykernel)",
   "language": "python",
   "name": "python3"
  },
  "language_info": {
   "codemirror_mode": {
    "name": "ipython",
    "version": 3
   },
   "file_extension": ".py",
   "mimetype": "text/x-python",
   "name": "python",
   "nbconvert_exporter": "python",
   "pygments_lexer": "ipython3",
   "version": "3.12.3"
  }
 },
 "nbformat": 4,
 "nbformat_minor": 5
}
